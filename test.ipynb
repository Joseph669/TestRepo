{
  "nbformat": 4,
  "nbformat_minor": 0,
  "metadata": {
    "colab": {
      "name": "test.ipynb",
      "version": "0.3.2",
      "provenance": [],
      "collapsed_sections": [],
      "toc_visible": true,
      "include_colab_link": true
    },
    "kernelspec": {
      "name": "python3",
      "display_name": "Python 3"
    },
    "accelerator": "GPU"
  },
  "cells": [
    {
      "cell_type": "markdown",
      "metadata": {
        "id": "view-in-github",
        "colab_type": "text"
      },
      "source": [
        "<a href=\"https://colab.research.google.com/github/Joseph669/TestRepo/blob/master/test.ipynb\" target=\"_parent\"><img src=\"https://colab.research.google.com/assets/colab-badge.svg\" alt=\"Open In Colab\"/></a>"
      ]
    },
    {
      "metadata": {
        "id": "DSo2hbAQ-_Gx",
        "colab_type": "code",
        "outputId": "264425da-cd6d-4e8e-82e6-b55f4f4be4b5",
        "colab": {
          "base_uri": "https://localhost:8080/",
          "height": 270
        }
      },
      "cell_type": "code",
      "source": [
        "!apt-get install -y -qq software-properties-common python-software-properties module-init-tools\n",
        "!add-apt-repository -y ppa:alessandro-strada/ppa 2>&1 > /dev/null\n",
        "!apt-get update -qq 2>&1 > /dev/null\n",
        "!apt-get -y install -qq google-drive-ocamlfuse fuse\n",
        "from google.colab import auth\n",
        "auth.authenticate_user()\n",
        "from oauth2client.client import GoogleCredentials\n",
        "creds = GoogleCredentials.get_application_default()\n",
        "import getpass\n",
        "!google-drive-ocamlfuse -headless -id={creds.client_id} -secret={creds.client_secret} < /dev/null 2>&1 | grep URL\n",
        "vcode = getpass.getpass()\n",
        "!echo {vcode} | google-drive-ocamlfuse -headless -id={creds.client_id} -secret={creds.client_secret}\n",
        "\n",
        "# 挂载Google Drive\n",
        "!mkdir -p drive\n",
        "!google-drive-ocamlfuse drive\n",
        "\n",
        "import os\n",
        "os.chdir(\"/content/drive/HRV\")\n",
        "!ls"
      ],
      "execution_count": 0,
      "outputs": [
        {
          "output_type": "stream",
          "text": [
            "E: Package 'python-software-properties' has no installation candidate\n",
            "Selecting previously unselected package google-drive-ocamlfuse.\n",
            "(Reading database ... 131304 files and directories currently installed.)\n",
            "Preparing to unpack .../google-drive-ocamlfuse_0.7.3-0ubuntu1~ubuntu18.04.1_amd64.deb ...\n",
            "Unpacking google-drive-ocamlfuse (0.7.3-0ubuntu1~ubuntu18.04.1) ...\n",
            "Setting up google-drive-ocamlfuse (0.7.3-0ubuntu1~ubuntu18.04.1) ...\n",
            "Processing triggers for man-db (2.8.3-2ubuntu0.1) ...\n",
            "Please, open the following URL in a web browser: https://accounts.google.com/o/oauth2/auth?client_id=32555940559.apps.googleusercontent.com&redirect_uri=urn%3Aietf%3Awg%3Aoauth%3A2.0%3Aoob&scope=https%3A%2F%2Fwww.googleapis.com%2Fauth%2Fdrive&response_type=code&access_type=offline&approval_prompt=force\n",
            "··········\n",
            "Please, open the following URL in a web browser: https://accounts.google.com/o/oauth2/auth?client_id=32555940559.apps.googleusercontent.com&redirect_uri=urn%3Aietf%3Awg%3Aoauth%3A2.0%3Aoob&scope=https%3A%2F%2Fwww.googleapis.com%2Fauth%2Fdrive&response_type=code&access_type=offline&approval_prompt=force\n",
            "Please enter the verification code: Access token retrieved correctly.\n",
            "Data\t\tfrequencyDomain.py    panTompkins.py  relax.csv\n",
            "DFA.py\t\tget_feats_csv.py      poincare.py     stress.csv\n",
            "feats_data.csv\tmultiScaleEntropy.py  __pycache__     timeDomain.py\n"
          ],
          "name": "stdout"
        }
      ]
    },
    {
      "metadata": {
        "id": "tPi8D58j2oct",
        "colab_type": "code",
        "colab": {}
      },
      "cell_type": "code",
      "source": [
        "from get_feats_csv import get_feats_file\n",
        "\n",
        "get_feats_file()\n"
      ],
      "execution_count": 0,
      "outputs": []
    },
    {
      "metadata": {
        "id": "EMUljjYocNka",
        "colab_type": "code",
        "outputId": "bceaaca7-c87b-40f8-f01c-d1dc2eedbae2",
        "colab": {
          "base_uri": "https://localhost:8080/",
          "height": 150
        }
      },
      "cell_type": "code",
      "source": [
        "import numpy as np\n",
        "from sklearn.svm import SVC\n",
        "from sklearn import preprocessing\n",
        "from sklearn.model_selection  import train_test_split\n",
        "from sklearn.metrics import confusion_matrix\n",
        "import matplotlib as plt \n",
        "import pandas as pd\n",
        "from random import sample\n",
        "\n",
        "file_name = 'feats_data.csv'\n",
        "#file_name = 'test_feats_data.csv'\n",
        "# feats_tuple     = sample(range(0,10), 3)\n",
        "feats_tuple     = (0,1,7,13,14)\n",
        "\n",
        "file_data = np.array(pd.read_csv(file_name))\n",
        "feats     = file_data[:, feats_tuple]\n",
        "#feats     = preprocessing.StandardScaler().fit_transform(feats)\n",
        "label     = file_data[:, -1]\n",
        "x_train,x_test,y_train,y_test = train_test_split(feats, label, test_size=0.3, random_state=2)\n",
        "clf = SVC(C=900, coef0=0, kernel='rbf', gamma='auto').fit(x_train, y_train) #调参\n",
        "\n",
        "\n",
        "print('----------------------------------------------------------')        \n",
        "print('----------------------------------------------------------')\n",
        "print('train accuracy:' + str(clf.score(x_train, y_train)))\n",
        "print(confusion_matrix(y_train, clf.predict(x_train)))\n",
        "print('test accuracy:' + str(clf.score(x_test, y_test)))\n",
        "print(confusion_matrix(y_test, clf.predict(x_test)))\n"
      ],
      "execution_count": 0,
      "outputs": [
        {
          "output_type": "stream",
          "text": [
            "----------------------------------------------------------\n",
            "----------------------------------------------------------\n",
            "train accuracy:0.7142857142857143\n",
            "[[20  2]\n",
            " [10 10]]\n",
            "test accuracy:0.5555555555555556\n",
            "[[7 1]\n",
            " [7 3]]\n"
          ],
          "name": "stdout"
        }
      ]
    },
    {
      "metadata": {
        "id": "GZJlsDzAq1sv",
        "colab_type": "code",
        "colab": {}
      },
      "cell_type": "code",
      "source": [
        "import numpy as np\n",
        "import pandas as pd\n",
        "import csv,os\n",
        "from sklearn import preprocessing\n",
        "\n",
        "\n",
        "output_file = 'subtraction.csv'\n",
        "if os.path.exists(output_file):\n",
        "    os.remove(output_file)\n",
        "    \n",
        "relax = (np.array(pd.read_csv('relax.csv')))[:, :]\n",
        "stress = (np.array(pd.read_csv('stress.csv')))[:, :]\n",
        "\n",
        "subtraction = stress - relax\n",
        "#subtraction = preprocessing.MinMaxScaler().fit_transform(subtraction)\n",
        "for row in subtraction:\n",
        "    out = open(output_file, 'a', newline='')\n",
        "    csv_write = csv.writer(out,dialect='excel')\n",
        "    csv_write.writerow(row)"
      ],
      "execution_count": 0,
      "outputs": []
    },
    {
      "metadata": {
        "id": "Op81o1Z2_D6R",
        "colab_type": "text"
      },
      "cell_type": "markdown",
      "source": [
        "\n",
        "\n",
        "---\n",
        "\n"
      ]
    }
  ]
}